{
  "nbformat": 4,
  "nbformat_minor": 0,
  "metadata": {
    "kernelspec": {
      "display_name": "Python 3",
      "language": "python",
      "name": "python3"
    },
    "language_info": {
      "codemirror_mode": {
        "name": "ipython",
        "version": 3
      },
      "file_extension": ".py",
      "mimetype": "text/x-python",
      "name": "python",
      "nbconvert_exporter": "python",
      "pygments_lexer": "ipython3",
      "version": "3.6.5"
    },
    "colab": {
      "name": "awkward-GAN-with-no-warning.ipynb",
      "provenance": [],
      "collapsed_sections": []
    }
  },
  "cells": [
    {
      "cell_type": "markdown",
      "metadata": {
        "id": "_Civ51K3dRz4",
        "colab_type": "text"
      },
      "source": [
        "# Awkward *Quick, Draw!* GAN with No Warning"
      ]
    },
    {
      "cell_type": "markdown",
      "metadata": {
        "id": "hLFTIlb2dRz7",
        "colab_type": "text"
      },
      "source": [
        "In this notebook, we use an awkward workaround to avoid the unnecessary Keras warning produced by our [*Quick, Draw!* GAN](https://github.com/the-deep-learners/deep-learning-illustrated/blob/master/notebooks/generative_adversarial_network.ipynb)."
      ]
    },
    {
      "cell_type": "markdown",
      "metadata": {
        "id": "8Rlm82tFdRz8",
        "colab_type": "text"
      },
      "source": [
        "_In order to efficiently carry out the training in this notebook, we recommend using a GPU. Most readers don't have a GPU suitable for TensorFlow operations (i.e., an Nvidia GPU with CUDA and cuDNN drivers installed) available on their local machine, however you can easily access one for free via [Colab](https://colab.research.google.com/)._ \n",
        "\n",
        "_Separately, for reasons that escape us, the discriminator in this notebook nearly always fails to learn if you train on a CPU only. Because of this failure, the GAN will seldom learn how to generate sketches -- i.e., it will output images that are merely random noise. There are two ways we've identified to remedy this situation:_ \n",
        "\n",
        "1. _**Use a GPU.** If you don't have one, use Colab as suggested above. While in Colab, you can select \"Change runtime type\" from the \"Runtime\" item in the menu bar, and choose \"GPU\" as your hardware accelerator. This hardware accelerator trains the GAN orders of magnitude more rapidly than the \"None\" or \"TPU\" options, and the discriminator (we have no idea why!) will train properly._\n",
        "2. _**Change the discriminator's optimizer.** As noted by a comment in this notebook's discriminator compilation step, switching from the default RMSprop optimizer to another (e.g., Adam or AdaDelta) enables the discriminator to learn effectively and therefore the GAN generates sketches. Whether you use a CPU only, a GPU, or a TPU, this solution is effective. (That said, training the GAN with a GPU is still way faster than with a CPU only or a TPU.)_"
      ]
    },
    {
      "cell_type": "markdown",
      "metadata": {
        "id": "XV9K8a6ldRz8",
        "colab_type": "text"
      },
      "source": [
        "#### Load dependencies"
      ]
    },
    {
      "cell_type": "code",
      "metadata": {
        "id": "y5e-1H0GdRz9",
        "colab_type": "code",
        "colab": {}
      },
      "source": [
        "# for data input and output:\n",
        "import numpy as np\n",
        "import os\n",
        "\n",
        "# for deep learning: \n",
        "import keras\n",
        "from keras.models import Model\n",
        "from keras.layers import Input, Dense, Conv2D, Dropout, Lambda\n",
        "from keras.layers import BatchNormalization, Flatten\n",
        "from keras.layers import Activation\n",
        "from keras.layers import Reshape # new! \n",
        "from keras.layers import Conv2DTranspose, UpSampling2D # new! \n",
        "from keras.optimizers import RMSprop # new!\n",
        "from keras import backend as K\n",
        "\n",
        "# for plotting: \n",
        "import pandas as pd\n",
        "from matplotlib import pyplot as plt\n",
        "%matplotlib inline"
      ],
      "execution_count": 0,
      "outputs": []
    },
    {
      "cell_type": "markdown",
      "metadata": {
        "id": "gp3CNu64dR0D",
        "colab_type": "text"
      },
      "source": [
        "#### Load data\n",
        "NumPy bitmap files are [here](https://console.cloud.google.com/storage/browser/quickdraw_dataset/full/numpy_bitmap) -- pick your own drawing category -- you don't have to pick *apples* :)"
      ]
    },
    {
      "cell_type": "code",
      "metadata": {
        "id": "jFR7C2g1iijS",
        "colab_type": "code",
        "outputId": "bf51c99e-b4da-4387-d58d-ddea021a6e26",
        "colab": {
          "base_uri": "https://localhost:8080/",
          "height": 34
        }
      },
      "source": [
        "from google.colab import drive\n",
        "drive.mount('/content/drive')"
      ],
      "execution_count": 0,
      "outputs": [
        {
          "output_type": "stream",
          "text": [
            "Drive already mounted at /content/drive; to attempt to forcibly remount, call drive.mount(\"/content/drive\", force_remount=True).\n"
          ],
          "name": "stdout"
        }
      ]
    },
    {
      "cell_type": "code",
      "metadata": {
        "id": "xFVjdWG0dR0E",
        "colab_type": "code",
        "colab": {}
      },
      "source": [
        "input_images = \"/content/drive/My Drive/full_numpy_bitmap_castle.npy\""
      ],
      "execution_count": 0,
      "outputs": []
    },
    {
      "cell_type": "code",
      "metadata": {
        "id": "5Jr6pqS0dR0K",
        "colab_type": "code",
        "colab": {}
      },
      "source": [
        "data = np.load(input_images) # 28x28 (sound familiar?) grayscale bitmap in numpy .npy format; images are centered"
      ],
      "execution_count": 0,
      "outputs": []
    },
    {
      "cell_type": "code",
      "metadata": {
        "id": "GqWQZUYIdR0N",
        "colab_type": "code",
        "outputId": "751f1c3c-a8e7-45a4-f4cb-6b4a72ddf568",
        "colab": {
          "base_uri": "https://localhost:8080/",
          "height": 34
        }
      },
      "source": [
        "data.shape"
      ],
      "execution_count": 0,
      "outputs": [
        {
          "output_type": "execute_result",
          "data": {
            "text/plain": [
              "(122534, 784)"
            ]
          },
          "metadata": {
            "tags": []
          },
          "execution_count": 37
        }
      ]
    },
    {
      "cell_type": "code",
      "metadata": {
        "id": "53RjYD8ddR0Q",
        "colab_type": "code",
        "colab": {}
      },
      "source": [
        "data[4242]"
      ],
      "execution_count": 0,
      "outputs": []
    },
    {
      "cell_type": "code",
      "metadata": {
        "id": "oE0q--xGdR0U",
        "colab_type": "code",
        "colab": {}
      },
      "source": [
        "data = data/255\n",
        "data = np.reshape(data,(data.shape[0],28,28,1)) # fourth dimension is color\n",
        "img_w,img_h = data.shape[1:3]\n",
        "# data.shape"
      ],
      "execution_count": 0,
      "outputs": []
    },
    {
      "cell_type": "code",
      "metadata": {
        "id": "kaPPbCjddR0a",
        "colab_type": "code",
        "colab": {}
      },
      "source": [
        " data[4242]"
      ],
      "execution_count": 0,
      "outputs": []
    },
    {
      "cell_type": "code",
      "metadata": {
        "id": "JPN-I8eZdR0f",
        "colab_type": "code",
        "colab": {}
      },
      "source": [
        "plt.imshow(data[4242,:,:,0], cmap='Greys')"
      ],
      "execution_count": 0,
      "outputs": []
    },
    {
      "cell_type": "markdown",
      "metadata": {
        "id": "3qwWMTAadR0k",
        "colab_type": "text"
      },
      "source": [
        "#### Create discriminator network"
      ]
    },
    {
      "cell_type": "code",
      "metadata": {
        "id": "3byUIAuldR0m",
        "colab_type": "code",
        "colab": {}
      },
      "source": [
        "def build_discriminator(depth=64, p=0.4):\n",
        "\n",
        "    # Define inputs\n",
        "    image = Input((img_w,img_h,1))\n",
        "    \n",
        "    # Convolutional layers\n",
        "    conv1 = Conv2D(depth*1, 5, strides=2, \n",
        "                   padding='same', activation='relu')(image)\n",
        "    conv1 = Dropout(p)(conv1)\n",
        "    \n",
        "    conv2 = Conv2D(depth*2, 5, strides=2, \n",
        "                   padding='same', activation='relu')(conv1)\n",
        "    conv2 = Dropout(p)(conv2)\n",
        "    \n",
        "    conv3 = Conv2D(depth*4, 5, strides=2, \n",
        "                   padding='same', activation='relu')(conv2)\n",
        "    conv3 = Dropout(p)(conv3)\n",
        "    \n",
        "    conv4 = Conv2D(depth*8, 5, strides=1, \n",
        "                   padding='same', activation='relu')(conv3)\n",
        "    conv4 = Flatten()(Dropout(p)(conv4))\n",
        "    \n",
        "    # Output layer\n",
        "    prediction = Dense(1, activation='sigmoid', name='prediction')(conv4)\n",
        "    \n",
        "    # Model definition\n",
        "    model = Model(inputs=image, outputs=prediction)\n",
        "    \n",
        "    return model"
      ],
      "execution_count": 0,
      "outputs": []
    },
    {
      "cell_type": "code",
      "metadata": {
        "id": "8MPJpGdedR0q",
        "colab_type": "code",
        "colab": {}
      },
      "source": [
        "discriminator = build_discriminator()"
      ],
      "execution_count": 0,
      "outputs": []
    },
    {
      "cell_type": "code",
      "metadata": {
        "id": "Y1KTEBEEdR0w",
        "colab_type": "code",
        "colab": {}
      },
      "source": [
        "# discriminator.summary()"
      ],
      "execution_count": 0,
      "outputs": []
    },
    {
      "cell_type": "code",
      "metadata": {
        "id": "Q2BgUvcrdR01",
        "colab_type": "code",
        "colab": {}
      },
      "source": [
        "discriminator.compile(loss='binary_crossentropy', \n",
        "                      optimizer=RMSprop(lr=0.0008,\n",
        "                                        decay=6e-8,\n",
        "                                        clipvalue=1.0),\n",
        "                      metrics=['binary_accuracy'])"
      ],
      "execution_count": 0,
      "outputs": []
    },
    {
      "cell_type": "markdown",
      "metadata": {
        "id": "gBxm4p-0dR04",
        "colab_type": "text"
      },
      "source": [
        "#### Build an untrainable discriminator\n",
        "\n",
        "To create a workaround that avoids the following (unnecessary!) warning being thrown by recent versions of Keras...\n",
        "\n",
        "`Discrepancy between trainable weights and collected trainable weights, did you set model.trainable without calling model.compile after ?`\n",
        "\n",
        "...we awkwardly build a second, discriminator (`discriminator_`) for use in the adversarial model. This model is identical to the first discriminator (`discriminator`) except that it's unequivocally _untrainable_ (it isn't even compiled!). We copy the weights from the trainable `discriminator` model into the untrainable `discriminator_` model each time we want to use it. Thus, the adversarial model gets a fresh _copy_ of the discriminator's parameters in each round of training."
      ]
    },
    {
      "cell_type": "code",
      "metadata": {
        "id": "3cp6avzmdR05",
        "colab_type": "code",
        "colab": {}
      },
      "source": [
        "# Build an identical discriminator: \n",
        "discriminator_ = build_discriminator()\n",
        "\n",
        "# Set the model so that its parameters are frozen: \n",
        "discriminator_.trainable = False"
      ],
      "execution_count": 0,
      "outputs": []
    },
    {
      "cell_type": "code",
      "metadata": {
        "id": "7-PshaGzdR08",
        "colab_type": "code",
        "colab": {}
      },
      "source": [
        "# Function to copy the weights from the trainable discriminator to the frozen discriminator_\n",
        "def copy_weights(source, target):\n",
        "    for i, layer in enumerate(source.layers):\n",
        "        target.layers[i].set_weights(source.layers[i].get_weights())"
      ],
      "execution_count": 0,
      "outputs": []
    },
    {
      "cell_type": "markdown",
      "metadata": {
        "id": "GKNyKTK4dR0_",
        "colab_type": "text"
      },
      "source": [
        "#### Create generator network"
      ]
    },
    {
      "cell_type": "code",
      "metadata": {
        "id": "jRPTap90dR0_",
        "colab_type": "code",
        "colab": {}
      },
      "source": [
        "z_dimensions = 32"
      ],
      "execution_count": 0,
      "outputs": []
    },
    {
      "cell_type": "code",
      "metadata": {
        "id": "7vW3fO5IdR1C",
        "colab_type": "code",
        "colab": {}
      },
      "source": [
        "def build_generator(latent_dim=z_dimensions, \n",
        "                    depth=64, p=0.4):\n",
        "    \n",
        "    # Define inputs\n",
        "    noise = Input((latent_dim,))\n",
        "    \n",
        "    # First dense layer\n",
        "    dense1 = Dense(7*7*depth)(noise)\n",
        "    dense1 = BatchNormalization(momentum=0.9)(dense1) # default momentum for moving average is 0.99\n",
        "    dense1 = Activation(activation='relu')(dense1)\n",
        "    dense1 = Reshape((7,7,depth))(dense1)\n",
        "    dense1 = Dropout(p)(dense1)\n",
        "    \n",
        "    # De-Convolutional layers\n",
        "    conv1 = UpSampling2D()(dense1)\n",
        "    conv1 = Conv2DTranspose(int(depth/2), \n",
        "                            kernel_size=5, padding='same', \n",
        "                            activation=None,)(conv1)\n",
        "    conv1 = BatchNormalization(momentum=0.9)(conv1)\n",
        "    conv1 = Activation(activation='relu')(conv1)\n",
        "    \n",
        "    conv2 = UpSampling2D()(conv1)\n",
        "    conv2 = Conv2DTranspose(int(depth/4), \n",
        "                            kernel_size=5, padding='same', \n",
        "                            activation=None,)(conv2)\n",
        "    conv2 = BatchNormalization(momentum=0.9)(conv2)\n",
        "    conv2 = Activation(activation='relu')(conv2)\n",
        "    \n",
        "    conv3 = Conv2DTranspose(int(depth/8), \n",
        "                            kernel_size=5, padding='same', \n",
        "                            activation=None,)(conv2)\n",
        "    conv3 = BatchNormalization(momentum=0.9)(conv3)\n",
        "    conv3 = Activation(activation='relu')(conv3)\n",
        "\n",
        "    # Output layer\n",
        "    image = Conv2D(1, kernel_size=5, padding='same', \n",
        "                   activation='sigmoid')(conv3)\n",
        "\n",
        "    # Model definition    \n",
        "    model = Model(inputs=noise, outputs=image)\n",
        "    \n",
        "    return model"
      ],
      "execution_count": 0,
      "outputs": []
    },
    {
      "cell_type": "code",
      "metadata": {
        "id": "0qxXj2pndR1H",
        "colab_type": "code",
        "colab": {}
      },
      "source": [
        "generator = build_generator()"
      ],
      "execution_count": 0,
      "outputs": []
    },
    {
      "cell_type": "code",
      "metadata": {
        "id": "vqehpGLJdR1K",
        "colab_type": "code",
        "colab": {}
      },
      "source": [
        "# generator.compile(loss='binary_crossentropy', \n",
        "#                           optimizer=RMSprop(lr=0.0004, \n",
        "#                                             decay=3e-8, \n",
        "#                                             clipvalue=1.0), \n",
        "#                           metrics=['accuracy'])"
      ],
      "execution_count": 0,
      "outputs": []
    },
    {
      "cell_type": "code",
      "metadata": {
        "id": "eMmxzhVddR1S",
        "colab_type": "code",
        "colab": {}
      },
      "source": [
        "# generator.summary()"
      ],
      "execution_count": 0,
      "outputs": []
    },
    {
      "cell_type": "markdown",
      "metadata": {
        "id": "1s0HG3npdR1W",
        "colab_type": "text"
      },
      "source": [
        "#### Create adversarial network"
      ]
    },
    {
      "cell_type": "code",
      "metadata": {
        "id": "ePz74nFsdR1X",
        "colab_type": "code",
        "colab": {}
      },
      "source": [
        "def build_adversarial():\n",
        "          \n",
        "    # Define input\n",
        "    z = Input(shape=(z_dimensions,))\n",
        "    \n",
        "    # Generate image from noise\n",
        "    img = generator(z)\n",
        "    \n",
        "    # Make prediction\n",
        "    pred = discriminator_(img)\n",
        "       \n",
        "    # Build model\n",
        "    model = Model(inputs=z, outputs=pred)\n",
        "    \n",
        "    return model"
      ],
      "execution_count": 0,
      "outputs": []
    },
    {
      "cell_type": "code",
      "metadata": {
        "id": "P0UpuHXUdR1b",
        "colab_type": "code",
        "colab": {}
      },
      "source": [
        "adversarial_model = build_adversarial()"
      ],
      "execution_count": 0,
      "outputs": []
    },
    {
      "cell_type": "code",
      "metadata": {
        "id": "9lVnY73JdR1e",
        "colab_type": "code",
        "colab": {}
      },
      "source": [
        "# adversarial_model.summary()"
      ],
      "execution_count": 0,
      "outputs": []
    },
    {
      "cell_type": "code",
      "metadata": {
        "id": "BA29_Ee3dR1g",
        "colab_type": "code",
        "colab": {}
      },
      "source": [
        "adversarial_model.compile(loss='binary_crossentropy', \n",
        "                          optimizer=RMSprop(lr=0.0004, \n",
        "                                            decay=3e-8, \n",
        "                                            clipvalue=1.0), \n",
        "                          metrics=['accuracy'])"
      ],
      "execution_count": 0,
      "outputs": []
    },
    {
      "cell_type": "markdown",
      "metadata": {
        "id": "bKc54rnvdR1l",
        "colab_type": "text"
      },
      "source": [
        "#### Train!"
      ]
    },
    {
      "cell_type": "code",
      "metadata": {
        "id": "P85sH2ZXdR1m",
        "colab_type": "code",
        "colab": {}
      },
      "source": [
        "def train(epochs=2000, batch=128, z_dim=z_dimensions):\n",
        "    \n",
        "    d_metrics = []\n",
        "    a_metrics = []\n",
        "    \n",
        "    running_d_loss = 0\n",
        "    running_d_acc = 0\n",
        "    running_a_loss = 0\n",
        "    running_a_acc = 0\n",
        "    \n",
        "    for i in range(epochs):\n",
        "        \n",
        "        #######################\n",
        "        # train discriminator:#\n",
        "        #######################\n",
        "        \n",
        "        # sample real images: \n",
        "        real_imgs = np.reshape(\n",
        "            data[np.random.choice(data.shape[0],\n",
        "                                  batch,\n",
        "                                  replace=False)],\n",
        "            (batch,28,28,1))\n",
        "        \n",
        "        # generate fake images: \n",
        "        fake_imgs = generator.predict(\n",
        "            np.random.uniform(-1.0, 1.0, \n",
        "                              size=[batch, z_dim]))\n",
        "        \n",
        "        # concatenate images as discriminator inputs:\n",
        "        x = np.concatenate((real_imgs,fake_imgs))\n",
        "        \n",
        "        # assign y labels for discriminator:\n",
        "        # Added noisy labels, as per here: https://link.medium.com/yUuw4Y33PX\n",
        "        # Note: disciminator accuracy will always be zero now...\n",
        "        y = np.ones([2*batch,1]) - np.random.uniform(0,0.1,[2*batch,1])\n",
        "        y[batch:,:] = 0\n",
        "        y[batch:,:] += np.random.uniform(0,0.1,[batch,1])\n",
        "        \n",
        "        # do training\n",
        "        d_metrics.append(\n",
        "            discriminator.train_on_batch(x,y)\n",
        "        )\n",
        "        running_d_loss += d_metrics[-1][0]\n",
        "        running_d_acc += d_metrics[-1][1]\n",
        "        \n",
        "        #########################\n",
        "        # train adversarial net:#\n",
        "        #########################\n",
        "        \n",
        "        # adversarial net's noise input and \"real\" y: \n",
        "        noise = np.random.uniform(-1.0, 1.0, \n",
        "                                  size=[batch, z_dim])\n",
        "        y = np.ones([batch,1])\n",
        "        \n",
        "        # Copy weights to frozen discriminator\n",
        "        copy_weights(discriminator, discriminator_)\n",
        "        \n",
        "        # do training\n",
        "        a_metrics.append(\n",
        "            adversarial_model.train_on_batch(noise,y)\n",
        "        ) \n",
        "        running_a_loss += a_metrics[-1][0]\n",
        "        running_a_acc += a_metrics[-1][1]\n",
        "        \n",
        "        #########################\n",
        "        #     Print results     #\n",
        "        #########################\n",
        "        \n",
        "        # periodically print progress & fake images: \n",
        "        if (i+1)%20 == 0:\n",
        "\n",
        "            print('Epoch #{}'.format(i))\n",
        "            log_mesg = \"%d: [D loss: %f, acc: %f]\" % \\\n",
        "            (i, running_d_loss/i, running_d_acc/i)\n",
        "            log_mesg = \"%s  [A loss: %f, acc: %f]\" % \\\n",
        "            (log_mesg, running_a_loss/i, running_a_acc/i)\n",
        "            print(log_mesg)\n",
        "\n",
        "            noise = np.random.uniform(-1.0, 1.0, \n",
        "                                      size=[16, z_dim])\n",
        "            gen_imgs = generator.predict(noise)\n",
        "\n",
        "            plt.figure(figsize=(5,5))\n",
        "\n",
        "            for k in range(gen_imgs.shape[0]):\n",
        "                plt.subplot(4, 4, k+1)\n",
        "                plt.imshow(gen_imgs[k, :, :, 0], \n",
        "                           cmap='gray')\n",
        "                plt.axis('off')\n",
        "                \n",
        "            plt.tight_layout()\n",
        "            plt.show()\n",
        "    \n",
        "    return a_metrics, d_metrics"
      ],
      "execution_count": 0,
      "outputs": []
    },
    {
      "cell_type": "code",
      "metadata": {
        "id": "1Vq5LFrjdR1r",
        "colab_type": "code",
        "outputId": "983b94d7-6c82-4fc3-9984-37da2da12f99",
        "colab": {
          "base_uri": "https://localhost:8080/",
          "height": 1000
        }
      },
      "source": [
        "a_metrics_complete, d_metrics_complete = train()"
      ],
      "execution_count": 0,
      "outputs": []
    },
    {
      "cell_type": "code",
      "metadata": {
        "id": "0wSGGpOAdR1v",
        "colab_type": "code",
        "outputId": "3b86f94c-390c-4511-a366-93d7953a215a",
        "colab": {
          "base_uri": "https://localhost:8080/",
          "height": 312
        }
      },
      "source": [
        "ax = pd.DataFrame(\n",
        "    {\n",
        "        'Adversarial': [metric[0] for metric in a_metrics_complete],\n",
        "        'Discriminator': [metric[0] for metric in d_metrics_complete],\n",
        "    }\n",
        ").plot(title='Training Loss', logy=True)\n",
        "ax.set_xlabel(\"Epochs\")\n",
        "ax.set_ylabel(\"Loss\")"
      ],
      "execution_count": 0,
      "outputs": [
        {
          "output_type": "execute_result",
          "data": {
            "text/plain": [
              "Text(0, 0.5, 'Loss')"
            ]
          },
          "metadata": {
            "tags": []
          },
          "execution_count": 29
        },
        {
          "output_type": "display_data",
          "data": {
            "image/png": "[encoded data removed]",
            "text/plain": [
              "<Figure size 432x288 with 1 Axes>"
            ]
          },
          "metadata": {
            "tags": [],
            "needs_background": "light"
          }
        }
      ]
    },
    {
      "cell_type": "code",
      "metadata": {
        "id": "Z3YCqNbhdR1x",
        "colab_type": "code",
        "outputId": "ea9fe453-fd00-4a41-d644-4daa7b1b3ab2",
        "colab": {
          "base_uri": "https://localhost:8080/",
          "height": 312
        }
      },
      "source": [
        "ax = pd.DataFrame(\n",
        "    {\n",
        "        'Adversarial': [metric[1] for metric in a_metrics_complete],\n",
        "        'Discriminator': [metric[1] for metric in d_metrics_complete],\n",
        "    }\n",
        ").plot(title='Training Accuracy')\n",
        "ax.set_xlabel(\"Epochs\")\n",
        "ax.set_ylabel(\"Accuracy\")"
      ],
      "execution_count": 0,
      "outputs": [
        {
          "output_type": "execute_result",
          "data": {
            "text/plain": [
              "Text(0, 0.5, 'Accuracy')"
            ]
          },
          "metadata": {
            "tags": []
          },
          "execution_count": 30
        },
        {
          "output_type": "display_data",
          "data": {
            "image/png": "[encoded data removed]",
            "text/plain": [
              "<Figure size 432x288 with 1 Axes>"
            ]
          },
          "metadata": {
            "tags": [],
            "needs_background": "light"
          }
        }
      ]
    }
  ]
}